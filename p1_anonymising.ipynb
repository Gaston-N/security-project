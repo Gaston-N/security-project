{
 "cells": [
  {
   "cell_type": "code",
   "execution_count": 91,
   "id": "8b9d0d37",
   "metadata": {},
   "outputs": [],
   "source": [
    "import pandas as pd\n",
    "\n",
    "private_data = pd.read_excel('private_dataM.xlsx')"
   ]
  },
  {
   "cell_type": "code",
   "execution_count": 92,
   "id": "76f3f37d",
   "metadata": {},
   "outputs": [],
   "source": [
    "anon = private_data.copy()"
   ]
  },
  {
   "cell_type": "code",
   "execution_count": 93,
   "id": "392af83b",
   "metadata": {},
   "outputs": [],
   "source": [
    "# remove direct identifiers\n",
    "anon = anon.drop(columns=['name'])"
   ]
  },
  {
   "cell_type": "code",
   "execution_count": 94,
   "id": "5a130c8d",
   "metadata": {},
   "outputs": [],
   "source": [
    "# generalise quasi-identifiers\n",
    "'''Age is very specific, so we will transform to age bands, \n",
    "and merge further every non-Danish to 'other', merge divorced/widowed, and merge education\n",
    " '''\n",
    "\n",
    "today = pd.Timestamp.today()\n",
    "anon['dob'] = pd.to_datetime(anon['dob'], format='%d/%m/%Y')\n",
    "anon['age'] = (today - anon['dob']).dt.days // 365\n",
    "\n",
    "bins = [18, 29, 39, 49, 59, 69, 120]\n",
    "labels = ['18-29','30-39','40-49','50-59','60-69', '70+']\n",
    "anon['age_band'] = pd.cut(anon['age'], bins=bins, labels=labels)\n",
    "anon = anon.drop(columns=['dob', 'age'])\n",
    "\n",
    "anon.loc[anon['citizenship'] != 'Denmark', 'citizenship'] = 'Other'\n",
    "anon.loc[anon['marital_status'].isin(['Divorced', 'Widowed']), 'marital_status'] = 'Divorced/Widowed'\n",
    "\n",
    "education_map = {\n",
    "    'Upper secondary education': 'Secondary education',\n",
    "    'Vocational Education and Training (VET)': 'Secondary education',\n",
    "    'Vocational bachelors educations': 'Vocational/Medium cycle',\n",
    "    'Short cycle higher education': 'Vocational/Medium cycle',\n",
    "    'Bachelors programmes': 'Higher education',\n",
    "    'Masters programmes': 'Higher education',\n",
    "    'PhD programmes': 'Higher education',\n",
    "    'Not stated': 'Other/Not stated',\n",
    "    'Qualifying educational programmes': 'Other/Not stated'\n",
    "}\n",
    "\n",
    "anon['education'] = anon['education'].replace(education_map)"
   ]
  },
  {
   "cell_type": "code",
   "execution_count": null,
   "id": "c84b8dc5",
   "metadata": {},
   "outputs": [
    {
     "name": "stdout",
     "output_type": "stream",
     "text": [
      "200 71\n"
     ]
    }
   ],
   "source": [
    "# supress rare combinations with k-anonymity\n",
    "# TODO: improve this so we don't remove most of the dataset\n",
    "\n",
    "test = anon.copy()\n",
    "qid = [ 'age_band', 'citizenship', 'education', 'sex']\n",
    "counts = test.groupby(qid).size().reset_index(name='count')\n",
    "riskydf = test.merge(counts, on=qid, how='left')\n",
    "risky = riskydf[riskydf['count'].between(1, 3)]\n",
    "print(len(test), len(risky))"
   ]
  },
  {
   "cell_type": "code",
   "execution_count": null,
   "id": "6bc86a93",
   "metadata": {},
   "outputs": [
    {
     "data": {
      "text/plain": [
       "5     40\n",
       "4     36\n",
       "3     33\n",
       "8     24\n",
       "1     22\n",
       "2     16\n",
       "6     12\n",
       "10    10\n",
       "7      7\n",
       "Name: count, dtype: int64"
      ]
     },
     "execution_count": 118,
     "metadata": {},
     "output_type": "execute_result"
    }
   ],
   "source": []
  }
 ],
 "metadata": {
  "kernelspec": {
   "display_name": "base",
   "language": "python",
   "name": "python3"
  },
  "language_info": {
   "codemirror_mode": {
    "name": "ipython",
    "version": 3
   },
   "file_extension": ".py",
   "mimetype": "text/x-python",
   "name": "python",
   "nbconvert_exporter": "python",
   "pygments_lexer": "ipython3",
   "version": "3.11.4"
  }
 },
 "nbformat": 4,
 "nbformat_minor": 5
}
